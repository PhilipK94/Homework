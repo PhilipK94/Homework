{
 "cells": [
  {
   "cell_type": "markdown",
   "metadata": {},
   "source": [
    "    - Use a markdown numbered list to answer these questions.\n",
    "    - What is an algorithm?\n",
    "    1. An algorithm is a series of steps used to solve a problem.\n",
    "\n",
    "    - Why is Python considered to be a high-level language?\n",
    "    2. Because it is more similar to English and other spoken languages than it is to Assembly, binary, or computer code\n",
    "\n",
    "    - Is Python a Natural or a Formal language?\n",
    "    Python is a Formal language\n",
    "\n",
    "    - Variable names may not start with certain characters - name two.\n",
    "    Numbers or special characters. Must start with letter or underscoe\n",
    "\n",
    "    - WHat is a Semantic error?\n",
    "    Semantic error, also called a logic error, occurs when your program runs but does not function properly. Basically, you \"told\" the program to do one thing and you \"want\" another thing.\n",
    "\n",
    "    - What is the #1 rule of coding / debugging?\n",
    "    Assume nothing\n",
    "\n",
    "    - list 5 Python reserved words.\n",
    "    True, False, and, while, with\n",
    "\n",
    "    - add and name, a web link for any Python coding article, in your markdown cell\n",
    "    https://flexiple.com/python/python-reserved-words/"
   ]
  },
  {
   "cell_type": "markdown",
   "metadata": {},
   "source": [
    " - Write a multi-line comment with your name, favorite food, and dream job on 3 different lines.\n",
    "    - assign 5 different data types to 5 different variables. At least one datatype must be a string.\n",
    "    - print the length of your string.\n",
    "    - print the the index value of the 4th character in your string.\n",
    "    - create a new variable called savvy, and assign it the string with this phrase \"Learning Data Analytics and Python is Awesome!\"\n",
    "    - return a range of characters that slices the above string from the beginning of  \"ing\" up to before \"and\"\n",
    "    - Replace \"Awesome\" with \"great\" in the string\n",
    "    - Test and print the savvy string to see it contains \"Python\"\n",
    "    - Create and assign 3 more variables called name, age and length using the multi-variable  naming method.\n",
    "    - Format a new string called 'miniBio' using variables in curly brackets to complete this phrase... \n",
    "            \"Hi my name is (name), I am so (tall) and (so) old today.\n",
    "    - print 'miniBio'\n",
    "    - cast and print the age variable to a float."
   ]
  },
  {
   "cell_type": "code",
   "execution_count": 13,
   "metadata": {},
   "outputs": [
    {
     "name": "stdout",
     "output_type": "stream",
     "text": [
      "11\n",
      "l\n",
      "ning Data Analytic\n",
      "Learning Data Analytics and Python is great!\n",
      "Python is savvy\n",
      " Hi my name is Phil, I am so 6 and 27.9 old today.\n"
     ]
    }
   ],
   "source": [
    "##This is a multi-line comment\n",
    "#Name is Philip\n",
    "#Food is pasta\n",
    "#Dream job is data scientist\n",
    "\n",
    "x = \"Hello World\"\n",
    "y = 20\n",
    "z = 3.14\n",
    "a = ['apple', 'banana', 'cherry']\n",
    "b = range(5)\n",
    "\n",
    "print(len(x))\n",
    "print(x[3])\n",
    "\n",
    "savvy = \"Learning Data Analytics and Python is Awesome!\"\n",
    "\n",
    "print(savvy[4:22])\n",
    "print(savvy.replace(\"Awesome\", \"great\"))\n",
    "\n",
    "if \"Python\" in savvy:\n",
    "    print(\"Python is savvy\")\n",
    "\n",
    "name = \"Phil\"\n",
    "age = 27.9\n",
    "length = 6\n",
    "\n",
    "MiniBio = \" Hi my name is {}, I am so {} and {} old today.\"\n",
    "\n",
    "print(MiniBio.format(name, length, age))"
   ]
  }
 ],
 "metadata": {
  "kernelspec": {
   "display_name": "Python 3.10.7 64-bit",
   "language": "python",
   "name": "python3"
  },
  "language_info": {
   "codemirror_mode": {
    "name": "ipython",
    "version": 3
   },
   "file_extension": ".py",
   "mimetype": "text/x-python",
   "name": "python",
   "nbconvert_exporter": "python",
   "pygments_lexer": "ipython3",
   "version": "3.10.7"
  },
  "orig_nbformat": 4,
  "vscode": {
   "interpreter": {
    "hash": "2e9a2dbc51607f973d907a8a37a429e79fe4f13f959c934dc2081d8dac3e8f28"
   }
  }
 },
 "nbformat": 4,
 "nbformat_minor": 2
}
