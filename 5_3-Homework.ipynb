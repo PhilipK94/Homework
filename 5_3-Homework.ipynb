{
 "cells": [
  {
   "cell_type": "markdown",
   "metadata": {},
   "source": [
    "2. Create a list of at least 5 elements of mixed data types\n",
    "    - replace a part of it with something else\n",
    "    - append or insert several more items to the list\n",
    "    - find and print the length of the list\n",
    "    - slice a sub-section of the 1st list, and save it to a different 2nd list\n",
    "    - print the 2nd list\n",
    "    - extend your original list with the 2nd list sliced above\n",
    "    - Create a new list called \"simList\" containing at least 5 elements of the same data type, either string, integer, float, or Boolean.\n",
    "    - sort \"simList\", and print the list\n",
    "    - copy the \"simList\" list to another 3rd list\n",
    "    - add the 2nd and 3rd lists together into a 4th list\n",
    "\n",
    "<br>\n",
    "\n",
    "3. Create a tuple of about 5 elements\n",
    "    - multiply your tuple by 3 and save it to a new 2nd tuple\n",
    "    - access and print the 12th element from the 2nd tuple\n",
    "    - sort the 2nd tuple and print it\n",
    "    - copy 4 specific elements from your 2nd tuple to a new 3nd tuple\n",
    "    - unpack the 3rd tuple into 4 variables and print these variables\n",
    "    - create a 4th tuple with single item 50 and print this tuple\n",
    "    - add the 2nd and 3rd tuple together into a 5th tuple and print the tuple\n",
    "\n",
    "<br>\n",
    "\n",
    "4. Create a set of about 3 elements\n",
    "    - add a list of fruits to the above set and print the result\n",
    "    - add a car element to your set\n",
    "    - create a 2nd set with a few odd items\n",
    "    - save the union of 1st set and 2nd set to a 3rd set\n",
    "    - pop an element from the 2nd set, and print the remainder of the set\n",
    "    - clear the 1st set and print the result\n",
    "    - discard an element, and remove another element from the 3rd set\n",
    "    - print the remainder of the 3rd set\n",
    "\n",
    "<br>\n",
    "\n",
    "5. Create a dictionary with at least 5 values of different data types\n",
    "    - print out 1 value\n",
    "    - replace any one value in your dictionary with your name\n",
    "    - add your favorite color to the dictionary\n",
    "    - add a list, tuple or set to your dictionary\n",
    "    - print a list of the dictionary keys\n",
    "    - print a list of the dictionary values\n",
    "    - copy your 1st dictionary into a 2nd dictionary\n",
    "    - pop an item from the 2nd dictionary, and print the dictionary\n",
    "    - remove all the elements from the 2nd dictionary and print the result\n",
    "\n",
    "<br>\n",
    "\n",
    "6. Save your file in your homework folder, and push it to GitHub.\n",
    "    - Once you have completed all your homework for the week, create a ticket to let the TAs know you have completed it.\n",
    "    - Remember to add the link to you homework, to the ticket.\n"
   ]
  },
  {
   "cell_type": "code",
   "execution_count": 9,
   "metadata": {},
   "outputs": [
    {
     "name": "stdout",
     "output_type": "stream",
     "text": [
      "[20, 'cereal', 'milk']\n",
      "['Tame Impala', 'Marvin Gaye', 'Khrungbun', 'Bill Whithers', 'Animal Collective']\n"
     ]
    }
   ],
   "source": [
    "##Number Two\n",
    "#List\n",
    "\n",
    "groceries = [\"apples\", 20, 5.5, \"cereal\", \"milk\"]\n",
    "groceries[2] = \"tofu\"\n",
    "groceries.append(\"whiskey\")\n",
    "groceries.insert(4, \"Club Soda\")\n",
    "\n",
    "Vons = groceries[1:6:2]\n",
    "print(Vons)\n",
    "\n",
    "groceries.extend(Vons)\n",
    "\n",
    "simList = [\"Khrungbun\", \"Tame Impala\", \"Bill Whithers\", \"Marvin Gaye\", \"Animal Collective\"]\n",
    "simList.sort(reverse=True)\n",
    "print(simList)\n",
    "bands = simList\n",
    "\n",
    "fourth = Vons + simList"
   ]
  },
  {
   "cell_type": "code",
   "execution_count": 17,
   "metadata": {},
   "outputs": [
    {
     "name": "stdout",
     "output_type": "stream",
     "text": [
      "5\n",
      "[2, 2, 2, 3, 3, 3, 5, 5, 5, 7, 7, 7, 11, 11, 11]\n",
      "(3, 7, 2, 5, 11)\n",
      "3 7 2 5\n",
      "(50,)\n",
      "(2, 3, 5, 7, 11, 2, 3, 5, 7, 11, 2, 3, 5, 7, 11, 3, 7, 2, 5, 11)\n"
     ]
    }
   ],
   "source": [
    "##Number Three\n",
    "#Tuples\n",
    "\n",
    "PrimeNum = (2, 3, 5, 7, 11)\n",
    "productTup = PrimeNum * 3\n",
    "print(productTup[12])\n",
    "print(sorted(productTup))\n",
    "\n",
    "ThirdTup = productTup[1:10:2]\n",
    "print(ThirdTup)\n",
    "a = ThirdTup[0]\n",
    "b = ThirdTup[1]\n",
    "c = ThirdTup[2]\n",
    "d = ThirdTup[3]\n",
    "print(a,b,c,d,)\n",
    "\n",
    "SingleTup = (50,)\n",
    "print(SingleTup)\n",
    "\n",
    "FifthTup = productTup + ThirdTup\n",
    "print(FifthTup)"
   ]
  },
  {
   "cell_type": "code",
   "execution_count": 30,
   "metadata": {},
   "outputs": [
    {
     "name": "stdout",
     "output_type": "stream",
     "text": [
      "{56.76, 2.09, 11.55}\n",
      "{56.76, 2.09, 11.55, 'BMW'}\n",
      "{2.09, 'flowers', 'can', 56.76, 11.55, 'candle', 'BMW'}\n",
      "flowers\n",
      "cleared set ...  set()\n",
      "{2.09, 'flowers', 'can', 56.76, 'BMW'}\n"
     ]
    }
   ],
   "source": [
    "##Number Four\n",
    "#Sets\n",
    "\n",
    "CustomerTotals = {11.55, 2.09, 56.76}\n",
    "#Fruits = (\"apples\", \"bananas\", \"cherries\")\n",
    "#CustomerTotals.add(list(Fruits))\n",
    "print(CustomerTotals)\n",
    "#Cannot add a list a to a set becuase unmutable; can only add tuples\n",
    "\n",
    "CustomerTotals.add(\"BMW\")\n",
    "print(CustomerTotals)\n",
    "\n",
    "set2 = {\"candle\", \"can\", \"flowers\"}\n",
    "set3 = CustomerTotals.union(set2)\n",
    "print(set3)\n",
    "print(set2.pop())\n",
    "\n",
    "set2.clear()\n",
    "print(\"cleared set ... \", set2)\n",
    "\n",
    "set3.remove(11.55)\n",
    "set3.remove(\"candle\")\n",
    "print(set3)"
   ]
  },
  {
   "cell_type": "code",
   "execution_count": 46,
   "metadata": {},
   "outputs": [
    {
     "name": "stdout",
     "output_type": "stream",
     "text": [
      "10\n",
      "{'a': 10, 'b': ('apples', 'bananas', 'cherries'), 'c': 'Phil', 'd': 40, 18: 50, 'e': 'Biege'}\n",
      "{'a': 10, 'c': 'Phil', 'd': 40, 18: 50, 'e': 'Biege'}\n",
      "{}\n"
     ]
    }
   ],
   "source": [
    "##Number Five\n",
    "#Dictionaries\n",
    "\n",
    "book1 = {\"a\":10, \"b\":20, \"c\":30, \"d\":40, 18:50}\n",
    "x = book1.get(\"a\")\n",
    "print(x)\n",
    "\n",
    "book1[\"c\"] = \"Phil\"\n",
    "book1[\"e\"] = \"Biege\"\n",
    "\n",
    "list1 = \"apples\", \"bananas\", \"cherries\"\n",
    "book1[\"b\"] = list1\n",
    "print(book1)\n",
    "\n",
    "book2 = book1\n",
    "book2.pop(\"b\")\n",
    "print(book2)\n",
    "book2.clear()\n",
    "print(book2)"
   ]
  },
  {
   "cell_type": "markdown",
   "metadata": {},
   "source": [
    "Create a dictionary with at least 5 values of different data types\n",
    "    - print out 1 value\n",
    "    - replace any one value in your dictionary with your name\n",
    "    - add your favorite color to the dictionary\n",
    "    - add a list, tuple or set to your dictionary\n",
    "    - print a list of the dictionary keys\n",
    "    - print a list of the dictionary values\n",
    "    - copy your 1st dictionary into a 2nd dictionary\n",
    "    - pop an item from the 2nd dictionary, and print the dictionary\n",
    "    - remove all the elements from the 2nd dictionary and print the result"
   ]
  }
 ],
 "metadata": {
  "kernelspec": {
   "display_name": "Python 3.10.7 64-bit",
   "language": "python",
   "name": "python3"
  },
  "language_info": {
   "codemirror_mode": {
    "name": "ipython",
    "version": 3
   },
   "file_extension": ".py",
   "mimetype": "text/x-python",
   "name": "python",
   "nbconvert_exporter": "python",
   "pygments_lexer": "ipython3",
   "version": "3.10.7"
  },
  "orig_nbformat": 4,
  "vscode": {
   "interpreter": {
    "hash": "2e9a2dbc51607f973d907a8a37a429e79fe4f13f959c934dc2081d8dac3e8f28"
   }
  }
 },
 "nbformat": 4,
 "nbformat_minor": 2
}
